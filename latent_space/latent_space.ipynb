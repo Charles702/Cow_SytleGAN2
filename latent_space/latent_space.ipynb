{
  "nbformat": 4,
  "nbformat_minor": 0,
  "metadata": {
    "colab": {
      "name": "latent-space.ipynb",
      "provenance": [],
      "collapsed_sections": [],
      "machine_shape": "hm"
    },
    "kernelspec": {
      "name": "python3",
      "display_name": "Python 3"
    },
    "accelerator": "GPU"
  },
  "cells": [
    {
      "cell_type": "code",
      "metadata": {
        "id": "a8S6oRPe3-oJ"
      },
      "source": [
        "# reference: https://amarsaini.github.io/Epoching-Blog/jupyter/2020/08/10/Latent-Space-Exploration-with-StyleGAN2.html#5.-Projecting-our-own-Input-Images-into-the-Latent-Space"
      ],
      "execution_count": null,
      "outputs": []
    },
    {
      "cell_type": "code",
      "metadata": {
        "id": "L2OxIOjT4Bdl",
        "colab": {
          "base_uri": "https://localhost:8080/"
        },
        "outputId": "cc8785d5-f8cf-4b69-b588-d5facda355bd"
      },
      "source": [
        "%tensorflow_version 1.x"
      ],
      "execution_count": null,
      "outputs": [
        {
          "output_type": "stream",
          "text": [
            "TensorFlow 1.x selected.\n"
          ],
          "name": "stdout"
        }
      ]
    },
    {
      "cell_type": "code",
      "metadata": {
        "colab": {
          "base_uri": "https://localhost:8080/"
        },
        "id": "28VHFV4_9p42",
        "outputId": "c3e8fd10-7449-4bc5-8a84-c29d15f359b0"
      },
      "source": [
        "pip install click requests tqdm pyspng ninja imageio-ffmpeg==0.4.3"
      ],
      "execution_count": null,
      "outputs": [
        {
          "output_type": "stream",
          "text": [
            "Requirement already satisfied: click in /usr/local/lib/python3.7/dist-packages (7.1.2)\n",
            "Requirement already satisfied: requests in /usr/local/lib/python3.7/dist-packages (2.23.0)\n",
            "Requirement already satisfied: tqdm in /usr/local/lib/python3.7/dist-packages (4.41.1)\n",
            "Collecting pyspng\n",
            "\u001b[?25l  Downloading https://files.pythonhosted.org/packages/cf/b2/c18f96ccc62153631fdb3122cb1e13fa0c89303f4e64388a49a04bfad9f2/pyspng-0.1.0-cp37-cp37m-manylinux2010_x86_64.whl (195kB)\n",
            "\u001b[K     |████████████████████████████████| 204kB 8.7MB/s \n",
            "\u001b[?25hCollecting ninja\n",
            "\u001b[?25l  Downloading https://files.pythonhosted.org/packages/1d/de/393468f2a37fc2c1dc3a06afc37775e27fde2d16845424141d4da62c686d/ninja-1.10.0.post2-py3-none-manylinux1_x86_64.whl (107kB)\n",
            "\u001b[K     |████████████████████████████████| 112kB 16.9MB/s \n",
            "\u001b[?25hCollecting imageio-ffmpeg==0.4.3\n",
            "\u001b[?25l  Downloading https://files.pythonhosted.org/packages/89/0f/4b49476d185a273163fa648eaf1e7d4190661d1bbf37ec2975b84df9de02/imageio_ffmpeg-0.4.3-py3-none-manylinux2010_x86_64.whl (26.9MB)\n",
            "\u001b[K     |████████████████████████████████| 26.9MB 1.5MB/s \n",
            "\u001b[?25hRequirement already satisfied: chardet<4,>=3.0.2 in /usr/local/lib/python3.7/dist-packages (from requests) (3.0.4)\n",
            "Requirement already satisfied: urllib3!=1.25.0,!=1.25.1,<1.26,>=1.21.1 in /usr/local/lib/python3.7/dist-packages (from requests) (1.24.3)\n",
            "Requirement already satisfied: idna<3,>=2.5 in /usr/local/lib/python3.7/dist-packages (from requests) (2.10)\n",
            "Requirement already satisfied: certifi>=2017.4.17 in /usr/local/lib/python3.7/dist-packages (from requests) (2020.12.5)\n",
            "Requirement already satisfied: numpy in /usr/local/lib/python3.7/dist-packages (from pyspng) (1.19.5)\n",
            "Installing collected packages: pyspng, ninja, imageio-ffmpeg\n",
            "Successfully installed imageio-ffmpeg-0.4.3 ninja-1.10.0.post2 pyspng-0.1.0\n"
          ],
          "name": "stdout"
        }
      ]
    },
    {
      "cell_type": "code",
      "metadata": {
        "colab": {
          "base_uri": "https://localhost:8080/"
        },
        "id": "xLjtVSSkHmWd",
        "outputId": "e12f9bda-3259-45ff-d804-9e8b5724efd7"
      },
      "source": [
        "!nvidia-smi\n"
      ],
      "execution_count": null,
      "outputs": [
        {
          "output_type": "stream",
          "text": [
            "Mon Apr 19 15:46:16 2021       \n",
            "+-----------------------------------------------------------------------------+\n",
            "| NVIDIA-SMI 460.67       Driver Version: 460.32.03    CUDA Version: 11.2     |\n",
            "|-------------------------------+----------------------+----------------------+\n",
            "| GPU  Name        Persistence-M| Bus-Id        Disp.A | Volatile Uncorr. ECC |\n",
            "| Fan  Temp  Perf  Pwr:Usage/Cap|         Memory-Usage | GPU-Util  Compute M. |\n",
            "|                               |                      |               MIG M. |\n",
            "|===============================+======================+======================|\n",
            "|   0  Tesla P100-PCIE...  Off  | 00000000:00:04.0 Off |                    0 |\n",
            "| N/A   35C    P0    27W / 250W |      0MiB / 16280MiB |      0%      Default |\n",
            "|                               |                      |                  N/A |\n",
            "+-------------------------------+----------------------+----------------------+\n",
            "                                                                               \n",
            "+-----------------------------------------------------------------------------+\n",
            "| Processes:                                                                  |\n",
            "|  GPU   GI   CI        PID   Type   Process name                  GPU Memory |\n",
            "|        ID   ID                                                   Usage      |\n",
            "|=============================================================================|\n",
            "|  No running processes found                                                 |\n",
            "+-----------------------------------------------------------------------------+\n"
          ],
          "name": "stdout"
        }
      ]
    },
    {
      "cell_type": "markdown",
      "metadata": {
        "id": "4ESLZPfuHqxp"
      },
      "source": [
        "## mount google drive and install repo"
      ]
    },
    {
      "cell_type": "code",
      "metadata": {
        "colab": {
          "base_uri": "https://localhost:8080/"
        },
        "id": "uD6lEU8mHopf",
        "outputId": "f70a7248-01a7-45ec-e0c6-2bd54113b93b"
      },
      "source": [
        "from google.colab import drive\n",
        "drive.mount('/content/drive')"
      ],
      "execution_count": null,
      "outputs": [
        {
          "output_type": "stream",
          "text": [
            "Mounted at /content/drive\n"
          ],
          "name": "stdout"
        }
      ]
    },
    {
      "cell_type": "code",
      "metadata": {
        "colab": {
          "base_uri": "https://localhost:8080/"
        },
        "id": "cRgcg9tY6Nye",
        "outputId": "30554970-4e93-49f1-b65d-6386f55e66a0"
      },
      "source": [
        "import os\n",
        "if os.path.isdir(\"/content/drive/My Drive/GAN/stylegan2-ada-pytorch\"):\n",
        "    %cd \"/content/drive/My Drive/GAN/stylegan2-ada-pytorch\"\n",
        "else:\n",
        "    #install script\n",
        "    %cd \"/content/drive/My Drive/GAN/\"\n",
        "    !git clone https://github.com/NVlabs/stylegan2-ada-pytorch.git"
      ],
      "execution_count": null,
      "outputs": [
        {
          "output_type": "stream",
          "text": [
            "/content/drive/My Drive/GAN/stylegan2-ada-pytorch\n"
          ],
          "name": "stdout"
        }
      ]
    },
    {
      "cell_type": "code",
      "metadata": {
        "colab": {
          "base_uri": "https://localhost:8080/"
        },
        "id": "V15CWsb77xsN",
        "outputId": "b3dda5d8-8732-4a9f-a0e3-1032f5093fb5"
      },
      "source": [
        "!ls"
      ],
      "execution_count": null,
      "outputs": [
        {
          "output_type": "stream",
          "text": [
            "calc_metrics.py  docs\t\t  metrics\t\t       torch_utils\n",
            "data\t\t downloads\t  network-snapshot-008064.pkl  training\n",
            "datasets\t download.sh\t  out\t\t\t       training-runs\n",
            "dataset_tool.py  generate.py\t  projector.py\t\t       train.py\n",
            "dnnlib\t\t latent_space.py  __pycache__\n",
            "Dockerfile\t legacy.py\t  README.md\n",
            "docker_run.sh\t LICENSE.txt\t  style_mixing.py\n"
          ],
          "name": "stdout"
        }
      ]
    },
    {
      "cell_type": "markdown",
      "metadata": {
        "id": "fXKWyiNAhAzG"
      },
      "source": [
        "## Latent code research"
      ]
    },
    {
      "cell_type": "code",
      "metadata": {
        "id": "CEVjh8tkqFnj"
      },
      "source": [
        "import os\n",
        "import re\n",
        "from typing import List, Optional\n",
        "\n",
        "import click\n",
        "import dnnlib\n",
        "import numpy as np\n",
        "import PIL.Image\n",
        "import torch\n",
        "\n",
        "import legacy\n",
        "def num_range(s: str) -> List[int]:\n",
        "    '''Accept either a comma separated list of numbers 'a,b,c' or a range 'a-c' and return as a list of ints.'''\n",
        "\n",
        "    range_re = re.compile(r'^(\\d+)-(\\d+)$')\n",
        "    m = range_re.match(s)\n",
        "    if m:\n",
        "        return list(range(int(m.group(1)), int(m.group(2))+1))\n",
        "    vals = s.split(',')\n",
        "    return [int(x) for x in vals]"
      ],
      "execution_count": null,
      "outputs": []
    },
    {
      "cell_type": "code",
      "metadata": {
        "id": "cDzw8HRWqI6a"
      },
      "source": [
        "def generate_images(network_pkl, seed, truncation_psi, outdir, noise_mode):\n",
        "\n",
        "    print('Loading networks from \"%s\"...' % network_pkl)\n",
        "    device = torch.device('cuda')\n",
        "    with dnnlib.util.open_url(network_pkl) as f:\n",
        "        G = legacy.load_network_pkl(f)['G_ema'].to(device)  # type: ignore\n",
        "\n",
        "    os.makedirs(outdir, exist_ok=True)\n",
        "\n",
        "    # Labels.\n",
        "    label = torch.zeros([1, G.c_dim], device=device)\n",
        "\n",
        "    # Generate images.\n",
        "    z = torch.from_numpy(np.random.RandomState(seed).randn(1, G.z_dim)).to(device)\n",
        "    print('laten shape', z.shape)  # 1, 512\n",
        "    img = G(z, label, truncation_psi=truncation_psi, noise_mode=noise_mode)\n",
        "    img = (img.permute(0, 2, 3, 1) * 127.5 + 128).clamp(0, 255).to(torch.uint8)\n",
        "    PIL.Image.fromarray(img[0].cpu().numpy(), 'RGB').save(f'{outdir}/seed{seed:04d}.png')\n",
        "    img = img[0].cpu().numpy()\n",
        "    img = PIL.Image.fromarray(img)\n",
        "    #print('img type', type(img))\n",
        "    return seed, img, z"
      ],
      "execution_count": null,
      "outputs": []
    },
    {
      "cell_type": "code",
      "metadata": {
        "id": "lICT8uiQqqFi"
      },
      "source": [
        "def interpolate(z1, z2, rate):\n",
        "    return z1*rate + z2*(1-rate)"
      ],
      "execution_count": null,
      "outputs": []
    },
    {
      "cell_type": "code",
      "metadata": {
        "id": "KH7VnorBqnM5"
      },
      "source": [
        "def generate_images_from_z(rate, network_pkl, z, truncation_psi, outdir, noise_mode):\n",
        "\n",
        "    #print('Loading networks from \"%s\"...' % network_pkl)\n",
        "    device = torch.device('cuda')\n",
        "    with dnnlib.util.open_url(network_pkl) as f:\n",
        "        G = legacy.load_network_pkl(f)['G_ema'].to(device)  # type: ignore\n",
        "\n",
        "    os.makedirs(outdir, exist_ok=True)\n",
        "\n",
        "    # Labels.\n",
        "    label = torch.zeros([1, G.c_dim], device=device)\n",
        "\n",
        "    # Generate images.\n",
        "    z = z.to(device)\n",
        "    #print('laten shape', z.shape)  # 1, 512\n",
        "    img = G(z, label, truncation_psi=truncation_psi, noise_mode=noise_mode)\n",
        "    img = (img.permute(0, 2, 3, 1) * 127.5 + 128).clamp(0, 255).to(torch.uint8)\n",
        "    PIL.Image.fromarray(img[0].cpu().numpy(), 'RGB').save(f'{outdir}/inter{rate}.png')\n",
        "    img = img[0].cpu().numpy()\n",
        "    img = PIL.Image.fromarray(img)\n",
        "    #print('img type', type(img))\n",
        "    return img, z"
      ],
      "execution_count": null,
      "outputs": []
    },
    {
      "cell_type": "code",
      "metadata": {
        "id": "l8mSgjRwy2Hl"
      },
      "source": [
        "#interpolation gif, visualizing the effect of interpolating from img1 to img2\n",
        "def get_images(img1, img2):\n",
        "  #print('img1', img1.shape)\n",
        "  #height1, width1, _ = img1.shape\n",
        "  #height2, width2, _ = img2.shape\n",
        "  dst = PIL.Image.new('RGB', (img1.width + img2.width, img1.height))\n",
        "  dst.paste(img1, (0, 0))\n",
        "  dst.paste(img2, (img1.width, 0))\n",
        "  return dst\n",
        "\n",
        "def make_gif(img1, img2, z1, z2, nums):\n",
        "  step_size = 1.0/nums\n",
        "  total_img = []\n",
        "  amounts = np.arange(0, 1, step_size)\n",
        "  for rate in tqdm(amounts):\n",
        "    inter_num = interpolate(z1, z1, rate)\n",
        "    cur_img, _ = generate_images_from_z(network_pkl='https://nvlabs-fi-cdn.nvidia.com/stylegan2-ada-pytorch/pretrained/afhqcat.pkl', z=inter_num, truncation_psi=1, outdir='./out', noise_mode='const')\n",
        "    #print(cur_img.shape)\n",
        "    frame = get_images(img1, cur_img)\n",
        "    frame = get_images(frame, img2)\n",
        "    total_img.append(frame)\n",
        "  save_path = './out/test.gif'\n",
        "  total_img[0].save(save_path, save_all=True, append_images=total_img[1:], duration=1000, loop=0)\n"
      ],
      "execution_count": null,
      "outputs": []
    },
    {
      "cell_type": "markdown",
      "metadata": {
        "id": "5fme46emgzNJ"
      },
      "source": [
        "##AFHQ Cat"
      ]
    },
    {
      "cell_type": "code",
      "metadata": {
        "colab": {
          "base_uri": "https://localhost:8080/"
        },
        "id": "9_UilZ72CfRb",
        "outputId": "cf1cf3ea-1124-44b2-efea-4864de1807d9"
      },
      "source": [
        "!python latent_space.py --outdir=out --trunc=1 --seeds=100\\\n",
        "    --network=https://nvlabs-fi-cdn.nvidia.com/stylegan2-ada-pytorch/pretrained/afhqcat.pkl"
      ],
      "execution_count": null,
      "outputs": [
        {
          "output_type": "stream",
          "text": [
            "Loading networks from \"https://nvlabs-fi-cdn.nvidia.com/stylegan2-ada-pytorch/pretrained/afhqcat.pkl\"...\n",
            "Generating image for seed 100 (0/1) ...\n",
            "laten shape torch.Size([1, 512])\n",
            "Setting up PyTorch plugin \"bias_act_plugin\"... Done.\n",
            "Setting up PyTorch plugin \"upfirdn2d_plugin\"... Done.\n"
          ],
          "name": "stdout"
        }
      ]
    },
    {
      "cell_type": "code",
      "metadata": {
        "colab": {
          "base_uri": "https://localhost:8080/"
        },
        "id": "d0u1P20hqudB",
        "outputId": "53722223-991f-4053-b944-8d1f69b557e6"
      },
      "source": [
        "# def generate_images(network_pkl, seed, truncation_psi, outdir):\n",
        "_, img1, z1 = generate_images(seed=10, network_pkl='https://nvlabs-fi-cdn.nvidia.com/stylegan2-ada-pytorch/pretrained/afhqcat.pkl', truncation_psi=1, outdir='./out', noise_mode='const')\n",
        "_, img2, z2 = generate_images(seed=100, network_pkl='https://nvlabs-fi-cdn.nvidia.com/stylegan2-ada-pytorch/pretrained/afhqcat.pkl', truncation_psi=1, outdir='./out', noise_mode='const')\n"
      ],
      "execution_count": null,
      "outputs": [
        {
          "output_type": "stream",
          "text": [
            "Loading networks from \"https://nvlabs-fi-cdn.nvidia.com/stylegan2-ada-pytorch/pretrained/afhqcat.pkl\"...\n",
            "Downloading https://nvlabs-fi-cdn.nvidia.com/stylegan2-ada-pytorch/pretrained/afhqcat.pkl ... done\n",
            "laten shape torch.Size([1, 512])\n",
            "Setting up PyTorch plugin \"bias_act_plugin\"... Done.\n",
            "Setting up PyTorch plugin \"upfirdn2d_plugin\"... Done.\n",
            "Loading networks from \"https://nvlabs-fi-cdn.nvidia.com/stylegan2-ada-pytorch/pretrained/afhqcat.pkl\"...\n",
            "laten shape torch.Size([1, 512])\n"
          ],
          "name": "stdout"
        }
      ]
    },
    {
      "cell_type": "code",
      "metadata": {
        "colab": {
          "base_uri": "https://localhost:8080/"
        },
        "id": "KarZJtvOxLAA",
        "outputId": "ab9cb473-02cd-41a8-c7fb-dee7e48aa18e"
      },
      "source": [
        "# interpolation latent z\n",
        "inter_z = interpolate(z1, z2, rate=0.95)\n",
        "inter_z.shape"
      ],
      "execution_count": null,
      "outputs": [
        {
          "output_type": "execute_result",
          "data": {
            "text/plain": [
              "torch.Size([1, 512])"
            ]
          },
          "metadata": {
            "tags": []
          },
          "execution_count": 80
        }
      ]
    },
    {
      "cell_type": "code",
      "metadata": {
        "id": "SR4YACj2yMPN"
      },
      "source": [
        "img3 = generate_images_from_z(rate=0.95, network_pkl='https://nvlabs-fi-cdn.nvidia.com/stylegan2-ada-pytorch/pretrained/afhqcat.pkl', z=inter_z,  truncation_psi=1, outdir='./out', noise_mode='const')\n"
      ],
      "execution_count": null,
      "outputs": []
    },
    {
      "cell_type": "code",
      "metadata": {
        "colab": {
          "base_uri": "https://localhost:8080/"
        },
        "id": "ZZkmoeATKh-b",
        "outputId": "70aa7b48-887c-47ff-b6d0-90f455808f4e"
      },
      "source": [
        "from tqdm import tqdm\n",
        "import cv2\n",
        "\n",
        "make_gif(img1, img2, z1, z2, nums=10)"
      ],
      "execution_count": null,
      "outputs": [
        {
          "output_type": "stream",
          "text": [
            "100%|██████████| 10/10 [00:04<00:00,  2.42it/s]\n"
          ],
          "name": "stderr"
        }
      ]
    },
    {
      "cell_type": "markdown",
      "metadata": {
        "id": "HxdEBes-hRTw"
      },
      "source": [
        "## Cow"
      ]
    },
    {
      "cell_type": "code",
      "metadata": {
        "colab": {
          "base_uri": "https://localhost:8080/"
        },
        "id": "L-S7wcRIhQGH",
        "outputId": "81c8c7a8-6e14-4bee-a066-4cb1f1711810"
      },
      "source": [
        "# def generate_images(network_pkl, seed, truncation_psi, outdir):\n",
        "_, img11, z11 = generate_images(seed=10, network_pkl='./network-snapshot-008064.pkl', truncation_psi=1, outdir='./out', noise_mode='const')\n",
        "_, img22, z22 = generate_images(seed=100, network_pkl='./network-snapshot-008064.pkl', truncation_psi=1, outdir='./out', noise_mode='const')\n"
      ],
      "execution_count": null,
      "outputs": [
        {
          "output_type": "stream",
          "text": [
            "Loading networks from \"./network-snapshot-008064.pkl\"...\n",
            "laten shape torch.Size([1, 512])\n",
            "Loading networks from \"./network-snapshot-008064.pkl\"...\n",
            "laten shape torch.Size([1, 512])\n"
          ],
          "name": "stdout"
        }
      ]
    },
    {
      "cell_type": "code",
      "metadata": {
        "colab": {
          "base_uri": "https://localhost:8080/"
        },
        "id": "2DntZW8MhgfN",
        "outputId": "4d4268ce-e1ab-4201-9bde-1db457bdb2f8"
      },
      "source": [
        "inter_z = interpolate(z11, z22, rate=0.95)\n",
        "inter_z.shape"
      ],
      "execution_count": null,
      "outputs": [
        {
          "output_type": "execute_result",
          "data": {
            "text/plain": [
              "torch.Size([1, 512])"
            ]
          },
          "metadata": {
            "tags": []
          },
          "execution_count": 158
        }
      ]
    },
    {
      "cell_type": "code",
      "metadata": {
        "id": "RrfJRRl7hjpr"
      },
      "source": [
        "img33 = generate_images_from_z(rate=0.95, network_pkl='./network-snapshot-008064.pkl', z=inter_z,  truncation_psi=1, outdir='./out', noise_mode='const')\n"
      ],
      "execution_count": null,
      "outputs": []
    }
  ]
}